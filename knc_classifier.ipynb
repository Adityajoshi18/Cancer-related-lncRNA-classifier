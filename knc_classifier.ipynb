{
 "cells": [
  {
   "cell_type": "code",
   "execution_count": 1,
   "metadata": {},
   "outputs": [],
   "source": [
    "import pandas as pd\n",
    "import numpy as np\n",
    "import matplotlib.pyplot as plt\n",
    "import seaborn as sns\n",
    "%matplotlib inline\n",
    "import warnings\n",
    "warnings.filterwarnings('ignore')"
   ]
  },
  {
   "cell_type": "code",
   "execution_count": 2,
   "metadata": {},
   "outputs": [],
   "source": [
    "df=pd.read_csv(\"TrainingSet.csv\")"
   ]
  },
  {
   "cell_type": "code",
   "execution_count": 3,
   "metadata": {},
   "outputs": [
    {
     "data": {
      "text/html": [
       "<div>\n",
       "<style scoped>\n",
       "    .dataframe tbody tr th:only-of-type {\n",
       "        vertical-align: middle;\n",
       "    }\n",
       "\n",
       "    .dataframe tbody tr th {\n",
       "        vertical-align: top;\n",
       "    }\n",
       "\n",
       "    .dataframe thead th {\n",
       "        text-align: right;\n",
       "    }\n",
       "</style>\n",
       "<table border=\"1\" class=\"dataframe\">\n",
       "  <thead>\n",
       "    <tr style=\"text-align: right;\">\n",
       "      <th></th>\n",
       "      <th>adipose_tissue</th>\n",
       "      <th>adrenal_gland</th>\n",
       "      <th>brain</th>\n",
       "      <th>breast</th>\n",
       "      <th>colon</th>\n",
       "      <th>heart</th>\n",
       "      <th>kidney</th>\n",
       "      <th>leukocyte</th>\n",
       "      <th>liver</th>\n",
       "      <th>lung</th>\n",
       "      <th>...</th>\n",
       "      <th>TSS5k_H1hescH3k27ac</th>\n",
       "      <th>TSS5k_H1hescH3k4me1</th>\n",
       "      <th>TSS5k_H1hescH3k4me3</th>\n",
       "      <th>TSS5k_K562H3k27ac</th>\n",
       "      <th>TSS5k_K562H3k4me1</th>\n",
       "      <th>TSS5k_K562H3k4me3</th>\n",
       "      <th>cancer-miRNA_targets</th>\n",
       "      <th>miRNA_targets</th>\n",
       "      <th>hbm_total_degree</th>\n",
       "      <th>hbm_cancer-protein_degree</th>\n",
       "    </tr>\n",
       "  </thead>\n",
       "  <tbody>\n",
       "    <tr>\n",
       "      <th>0</th>\n",
       "      <td>0.11875</td>\n",
       "      <td>0.285</td>\n",
       "      <td>0.2375</td>\n",
       "      <td>0.11875</td>\n",
       "      <td>0.11875</td>\n",
       "      <td>0.000</td>\n",
       "      <td>0.000</td>\n",
       "      <td>0.0</td>\n",
       "      <td>0.316667</td>\n",
       "      <td>0.095</td>\n",
       "      <td>...</td>\n",
       "      <td>1.40099</td>\n",
       "      <td>0.888889</td>\n",
       "      <td>1.59273</td>\n",
       "      <td>4.98920</td>\n",
       "      <td>4.42028</td>\n",
       "      <td>2.19407</td>\n",
       "      <td>0.0</td>\n",
       "      <td>0.0</td>\n",
       "      <td>113.0</td>\n",
       "      <td>0.0</td>\n",
       "    </tr>\n",
       "    <tr>\n",
       "      <th>1</th>\n",
       "      <td>0.00000</td>\n",
       "      <td>0.000</td>\n",
       "      <td>0.0000</td>\n",
       "      <td>0.00000</td>\n",
       "      <td>0.00000</td>\n",
       "      <td>0.475</td>\n",
       "      <td>0.000</td>\n",
       "      <td>0.0</td>\n",
       "      <td>0.000000</td>\n",
       "      <td>0.000</td>\n",
       "      <td>...</td>\n",
       "      <td>29.11400</td>\n",
       "      <td>3.470650</td>\n",
       "      <td>21.45410</td>\n",
       "      <td>3.90171</td>\n",
       "      <td>8.30804</td>\n",
       "      <td>2.64050</td>\n",
       "      <td>0.0</td>\n",
       "      <td>0.0</td>\n",
       "      <td>716.0</td>\n",
       "      <td>0.0</td>\n",
       "    </tr>\n",
       "    <tr>\n",
       "      <th>2</th>\n",
       "      <td>0.00000</td>\n",
       "      <td>0.190</td>\n",
       "      <td>0.2375</td>\n",
       "      <td>0.00000</td>\n",
       "      <td>0.11875</td>\n",
       "      <td>0.000</td>\n",
       "      <td>0.000</td>\n",
       "      <td>0.0</td>\n",
       "      <td>0.000000</td>\n",
       "      <td>0.000</td>\n",
       "      <td>...</td>\n",
       "      <td>1.09134</td>\n",
       "      <td>1.245400</td>\n",
       "      <td>4.87542</td>\n",
       "      <td>1.22079</td>\n",
       "      <td>1.39571</td>\n",
       "      <td>1.36042</td>\n",
       "      <td>0.0</td>\n",
       "      <td>0.0</td>\n",
       "      <td>1253.0</td>\n",
       "      <td>1.0</td>\n",
       "    </tr>\n",
       "    <tr>\n",
       "      <th>3</th>\n",
       "      <td>0.00000</td>\n",
       "      <td>0.000</td>\n",
       "      <td>0.0000</td>\n",
       "      <td>0.00000</td>\n",
       "      <td>0.00000</td>\n",
       "      <td>0.000</td>\n",
       "      <td>0.000</td>\n",
       "      <td>0.0</td>\n",
       "      <td>0.000000</td>\n",
       "      <td>0.000</td>\n",
       "      <td>...</td>\n",
       "      <td>1.23263</td>\n",
       "      <td>2.263030</td>\n",
       "      <td>1.12352</td>\n",
       "      <td>1.21500</td>\n",
       "      <td>1.18454</td>\n",
       "      <td>1.37733</td>\n",
       "      <td>0.0</td>\n",
       "      <td>0.0</td>\n",
       "      <td>5455.0</td>\n",
       "      <td>15.0</td>\n",
       "    </tr>\n",
       "    <tr>\n",
       "      <th>4</th>\n",
       "      <td>0.11875</td>\n",
       "      <td>0.380</td>\n",
       "      <td>0.7125</td>\n",
       "      <td>0.00000</td>\n",
       "      <td>0.11875</td>\n",
       "      <td>0.475</td>\n",
       "      <td>0.285</td>\n",
       "      <td>0.0</td>\n",
       "      <td>0.000000</td>\n",
       "      <td>0.000</td>\n",
       "      <td>...</td>\n",
       "      <td>1.21965</td>\n",
       "      <td>1.817130</td>\n",
       "      <td>1.26316</td>\n",
       "      <td>1.63917</td>\n",
       "      <td>3.15974</td>\n",
       "      <td>1.81917</td>\n",
       "      <td>0.0</td>\n",
       "      <td>0.0</td>\n",
       "      <td>30.0</td>\n",
       "      <td>0.0</td>\n",
       "    </tr>\n",
       "  </tbody>\n",
       "</table>\n",
       "<p>5 rows × 51 columns</p>\n",
       "</div>"
      ],
      "text/plain": [
       "   adipose_tissue  adrenal_gland   brain   breast    colon  heart  kidney  \\\n",
       "0         0.11875          0.285  0.2375  0.11875  0.11875  0.000   0.000   \n",
       "1         0.00000          0.000  0.0000  0.00000  0.00000  0.475   0.000   \n",
       "2         0.00000          0.190  0.2375  0.00000  0.11875  0.000   0.000   \n",
       "3         0.00000          0.000  0.0000  0.00000  0.00000  0.000   0.000   \n",
       "4         0.11875          0.380  0.7125  0.00000  0.11875  0.475   0.285   \n",
       "\n",
       "   leukocyte     liver   lung  ...  TSS5k_H1hescH3k27ac  TSS5k_H1hescH3k4me1  \\\n",
       "0        0.0  0.316667  0.095  ...              1.40099             0.888889   \n",
       "1        0.0  0.000000  0.000  ...             29.11400             3.470650   \n",
       "2        0.0  0.000000  0.000  ...              1.09134             1.245400   \n",
       "3        0.0  0.000000  0.000  ...              1.23263             2.263030   \n",
       "4        0.0  0.000000  0.000  ...              1.21965             1.817130   \n",
       "\n",
       "   TSS5k_H1hescH3k4me3  TSS5k_K562H3k27ac  TSS5k_K562H3k4me1  \\\n",
       "0              1.59273            4.98920            4.42028   \n",
       "1             21.45410            3.90171            8.30804   \n",
       "2              4.87542            1.22079            1.39571   \n",
       "3              1.12352            1.21500            1.18454   \n",
       "4              1.26316            1.63917            3.15974   \n",
       "\n",
       "   TSS5k_K562H3k4me3  cancer-miRNA_targets  miRNA_targets  hbm_total_degree  \\\n",
       "0            2.19407                   0.0            0.0             113.0   \n",
       "1            2.64050                   0.0            0.0             716.0   \n",
       "2            1.36042                   0.0            0.0            1253.0   \n",
       "3            1.37733                   0.0            0.0            5455.0   \n",
       "4            1.81917                   0.0            0.0              30.0   \n",
       "\n",
       "   hbm_cancer-protein_degree  \n",
       "0                        0.0  \n",
       "1                        0.0  \n",
       "2                        1.0  \n",
       "3                       15.0  \n",
       "4                        0.0  \n",
       "\n",
       "[5 rows x 51 columns]"
      ]
     },
     "execution_count": 3,
     "metadata": {},
     "output_type": "execute_result"
    }
   ],
   "source": [
    "df.head()"
   ]
  },
  {
   "cell_type": "code",
   "execution_count": 4,
   "metadata": {},
   "outputs": [
    {
     "data": {
      "text/plain": [
       "adipose_tissue               0\n",
       "adrenal_gland                0\n",
       "brain                        0\n",
       "breast                       0\n",
       "colon                        0\n",
       "heart                        0\n",
       "kidney                       0\n",
       "leukocyte                    0\n",
       "liver                        0\n",
       "lung                         0\n",
       "lymph_node                   0\n",
       "ovary                        0\n",
       "prostate_gland               0\n",
       "skeletal_muscle_tissue       0\n",
       "testis                       0\n",
       "thyroid_gland                0\n",
       "micropeptide_aa_avg          0\n",
       "genebody_SINE                0\n",
       "genebody_LTR                 0\n",
       "genebody_LINE                0\n",
       "genebody_Gm12878H3k27ac      0\n",
       "genebody_Gm12878H3k4me1      0\n",
       "genebody_Gm12878H3k4me3      0\n",
       "genebody_H1hescH3k27ac       0\n",
       "genebody_H1hescH3k4me1       0\n",
       "genebody_H1hescH3k4me3       0\n",
       "genebody_K562H3k27ac         0\n",
       "genebody_K562H3k4me1         0\n",
       "genebody_K562H3k4me3         0\n",
       "TSS1k_Gm12878H3k27ac         0\n",
       "TSS1k_Gm12878H3k4me1         0\n",
       "TSS1k_Gm12878H3k4me3         0\n",
       "TSS1k_H1hescH3k27ac          0\n",
       "TSS1k_H1hescH3k4me1          0\n",
       "TSS1k_H1hescH3k4me3          0\n",
       "TSS1k_K562H3k27ac            0\n",
       "TSS1k_K562H3k4me1            0\n",
       "TSS1k_K562H3k4me3            0\n",
       "TSS5k_Gm12878H3k27ac         0\n",
       "TSS5k_Gm12878H3k4me1         0\n",
       "TSS5k_Gm12878H3k4me3         0\n",
       "TSS5k_H1hescH3k27ac          0\n",
       "TSS5k_H1hescH3k4me1          0\n",
       "TSS5k_H1hescH3k4me3          0\n",
       "TSS5k_K562H3k27ac            0\n",
       "TSS5k_K562H3k4me1            0\n",
       "TSS5k_K562H3k4me3            0\n",
       "cancer-miRNA_targets         0\n",
       "miRNA_targets                0\n",
       "hbm_total_degree             0\n",
       "hbm_cancer-protein_degree    0\n",
       "dtype: int64"
      ]
     },
     "execution_count": 4,
     "metadata": {},
     "output_type": "execute_result"
    }
   ],
   "source": [
    "df.isnull().sum()"
   ]
  },
  {
   "cell_type": "code",
   "execution_count": 5,
   "metadata": {},
   "outputs": [],
   "source": [
    "y=np.loadtxt(\"TrainingLabel.txt\", dtype = int)"
   ]
  },
  {
   "cell_type": "code",
   "execution_count": 6,
   "metadata": {},
   "outputs": [],
   "source": [
    "X=np.asarray(df)"
   ]
  },
  {
   "cell_type": "code",
   "execution_count": 7,
   "metadata": {},
   "outputs": [],
   "source": [
    "from sklearn.model_selection import train_test_split\n",
    "\n",
    "X_train,X_val,y_train,y_val=train_test_split(X,y,test_size=0.33,random_state=42)"
   ]
  },
  {
   "cell_type": "code",
   "execution_count": 8,
   "metadata": {},
   "outputs": [
    {
     "data": {
      "text/plain": [
       "array([[ 2.        ,  2.33333333,  0.33333333, ...,  0.        ,\n",
       "        -0.07549187, -0.125     ],\n",
       "       [ 2.        ,  0.        ,  0.        , ...,  0.        ,\n",
       "         0.1456373 ,  0.        ],\n",
       "       [ 2.        ,  6.66666667,  1.66666667, ...,  0.        ,\n",
       "        -0.06608212,  0.125     ],\n",
       "       ...,\n",
       "       [10.        ,  3.33333333,  1.33333333, ...,  0.        ,\n",
       "        -0.07164243, -0.125     ],\n",
       "       [ 0.        ,  0.        ,  0.        , ...,  0.        ,\n",
       "        -0.07549187, -0.125     ],\n",
       "       [ 0.        ,  0.        ,  0.        , ...,  0.        ,\n",
       "         2.25769889,  1.75      ]])"
      ]
     },
     "execution_count": 8,
     "metadata": {},
     "output_type": "execute_result"
    }
   ],
   "source": [
    "from sklearn.preprocessing import RobustScaler\n",
    "\n",
    "scaler = RobustScaler()\n",
    "X_train= scaler.fit_transform(X_train)\n",
    "X_val = scaler.transform(X_val)  \n",
    "\n",
    "# It is important to scale tain and val data separately because val is supposed to be unseen data on which we test our models. If we scale them together, data from val set will also be considered while calculating mean, median, IQR, etc\n",
    "\n",
    "X_train"
   ]
  },
  {
   "cell_type": "code",
   "execution_count": 9,
   "metadata": {},
   "outputs": [
    {
     "name": "stdout",
     "output_type": "stream",
     "text": [
      "Accuracy: 96.52733118971061\n",
      "0.634789644012945\n"
     ]
    }
   ],
   "source": [
    "from sklearn.neighbors import KNeighborsClassifier\n",
    "from sklearn.metrics import accuracy_score\n",
    "from sklearn.metrics import roc_auc_score\n",
    "\n",
    "knc = KNeighborsClassifier(n_neighbors = 3)\n",
    "knc.fit(X_train,y_train)\n",
    "\n",
    "knc_pred=knc.predict(X_val)\n",
    "\n",
    "accknc=accuracy_score(knc_pred,y_val)*100\n",
    "rac_knc=roc_auc_score(knc_pred,y_val)\n",
    "print('Accuracy: {}'.format(accknc))\n",
    "print(rac_knc)"
   ]
  },
  {
   "cell_type": "code",
   "execution_count": 10,
   "metadata": {},
   "outputs": [],
   "source": [
    "df1=pd.read_csv(\"ValidSet.csv\")"
   ]
  },
  {
   "cell_type": "code",
   "execution_count": 11,
   "metadata": {},
   "outputs": [
    {
     "data": {
      "text/html": [
       "<div>\n",
       "<style scoped>\n",
       "    .dataframe tbody tr th:only-of-type {\n",
       "        vertical-align: middle;\n",
       "    }\n",
       "\n",
       "    .dataframe tbody tr th {\n",
       "        vertical-align: top;\n",
       "    }\n",
       "\n",
       "    .dataframe thead th {\n",
       "        text-align: right;\n",
       "    }\n",
       "</style>\n",
       "<table border=\"1\" class=\"dataframe\">\n",
       "  <thead>\n",
       "    <tr style=\"text-align: right;\">\n",
       "      <th></th>\n",
       "      <th>adipose_tissue</th>\n",
       "      <th>adrenal_gland</th>\n",
       "      <th>brain</th>\n",
       "      <th>breast</th>\n",
       "      <th>colon</th>\n",
       "      <th>heart</th>\n",
       "      <th>kidney</th>\n",
       "      <th>leukocyte</th>\n",
       "      <th>liver</th>\n",
       "      <th>lung</th>\n",
       "      <th>...</th>\n",
       "      <th>TSS5k_H1hescH3k27ac</th>\n",
       "      <th>TSS5k_H1hescH3k4me1</th>\n",
       "      <th>TSS5k_H1hescH3k4me3</th>\n",
       "      <th>TSS5k_K562H3k27ac</th>\n",
       "      <th>TSS5k_K562H3k4me1</th>\n",
       "      <th>TSS5k_K562H3k4me3</th>\n",
       "      <th>cancer-miRNA_targets</th>\n",
       "      <th>miRNA_targets</th>\n",
       "      <th>hbm_total_degree</th>\n",
       "      <th>hbm_cancer-protein_degree</th>\n",
       "    </tr>\n",
       "  </thead>\n",
       "  <tbody>\n",
       "    <tr>\n",
       "      <th>0</th>\n",
       "      <td>0.0000</td>\n",
       "      <td>0.000</td>\n",
       "      <td>0.00000</td>\n",
       "      <td>0.00000</td>\n",
       "      <td>0.35625</td>\n",
       "      <td>0.158333</td>\n",
       "      <td>0.00</td>\n",
       "      <td>0.000000</td>\n",
       "      <td>0.000000</td>\n",
       "      <td>0.475</td>\n",
       "      <td>...</td>\n",
       "      <td>1.26696</td>\n",
       "      <td>1.41547</td>\n",
       "      <td>1.719480</td>\n",
       "      <td>1.42071</td>\n",
       "      <td>8.05691</td>\n",
       "      <td>2.61817</td>\n",
       "      <td>0.0</td>\n",
       "      <td>0.0</td>\n",
       "      <td>68.0</td>\n",
       "      <td>0.0</td>\n",
       "    </tr>\n",
       "    <tr>\n",
       "      <th>1</th>\n",
       "      <td>0.0000</td>\n",
       "      <td>0.000</td>\n",
       "      <td>0.00000</td>\n",
       "      <td>0.11875</td>\n",
       "      <td>0.00000</td>\n",
       "      <td>0.000000</td>\n",
       "      <td>0.00</td>\n",
       "      <td>0.000000</td>\n",
       "      <td>0.316667</td>\n",
       "      <td>0.000</td>\n",
       "      <td>...</td>\n",
       "      <td>3.13681</td>\n",
       "      <td>2.72905</td>\n",
       "      <td>1.002450</td>\n",
       "      <td>23.38600</td>\n",
       "      <td>3.95775</td>\n",
       "      <td>2.94355</td>\n",
       "      <td>0.0</td>\n",
       "      <td>0.0</td>\n",
       "      <td>168.0</td>\n",
       "      <td>1.0</td>\n",
       "    </tr>\n",
       "    <tr>\n",
       "      <th>2</th>\n",
       "      <td>1.1875</td>\n",
       "      <td>1.900</td>\n",
       "      <td>0.83125</td>\n",
       "      <td>1.18750</td>\n",
       "      <td>0.71250</td>\n",
       "      <td>3.166670</td>\n",
       "      <td>0.95</td>\n",
       "      <td>0.678571</td>\n",
       "      <td>1.266670</td>\n",
       "      <td>0.475</td>\n",
       "      <td>...</td>\n",
       "      <td>1.02540</td>\n",
       "      <td>1.79405</td>\n",
       "      <td>0.988256</td>\n",
       "      <td>1.18682</td>\n",
       "      <td>1.57390</td>\n",
       "      <td>1.33713</td>\n",
       "      <td>5.0</td>\n",
       "      <td>6.0</td>\n",
       "      <td>26.0</td>\n",
       "      <td>0.0</td>\n",
       "    </tr>\n",
       "    <tr>\n",
       "      <th>3</th>\n",
       "      <td>0.0000</td>\n",
       "      <td>0.095</td>\n",
       "      <td>0.00000</td>\n",
       "      <td>0.00000</td>\n",
       "      <td>0.00000</td>\n",
       "      <td>0.000000</td>\n",
       "      <td>0.00</td>\n",
       "      <td>0.000000</td>\n",
       "      <td>0.000000</td>\n",
       "      <td>0.000</td>\n",
       "      <td>...</td>\n",
       "      <td>0.92500</td>\n",
       "      <td>2.01149</td>\n",
       "      <td>1.795920</td>\n",
       "      <td>1.24058</td>\n",
       "      <td>5.29147</td>\n",
       "      <td>1.63085</td>\n",
       "      <td>0.0</td>\n",
       "      <td>0.0</td>\n",
       "      <td>1038.0</td>\n",
       "      <td>0.0</td>\n",
       "    </tr>\n",
       "    <tr>\n",
       "      <th>4</th>\n",
       "      <td>0.0000</td>\n",
       "      <td>0.000</td>\n",
       "      <td>0.00000</td>\n",
       "      <td>0.00000</td>\n",
       "      <td>0.00000</td>\n",
       "      <td>0.000000</td>\n",
       "      <td>0.00</td>\n",
       "      <td>0.000000</td>\n",
       "      <td>0.000000</td>\n",
       "      <td>0.000</td>\n",
       "      <td>...</td>\n",
       "      <td>1.63040</td>\n",
       "      <td>2.49246</td>\n",
       "      <td>1.266500</td>\n",
       "      <td>1.51410</td>\n",
       "      <td>1.88364</td>\n",
       "      <td>1.63636</td>\n",
       "      <td>0.0</td>\n",
       "      <td>0.0</td>\n",
       "      <td>5455.0</td>\n",
       "      <td>15.0</td>\n",
       "    </tr>\n",
       "  </tbody>\n",
       "</table>\n",
       "<p>5 rows × 51 columns</p>\n",
       "</div>"
      ],
      "text/plain": [
       "   adipose_tissue  adrenal_gland    brain   breast    colon     heart  kidney  \\\n",
       "0          0.0000          0.000  0.00000  0.00000  0.35625  0.158333    0.00   \n",
       "1          0.0000          0.000  0.00000  0.11875  0.00000  0.000000    0.00   \n",
       "2          1.1875          1.900  0.83125  1.18750  0.71250  3.166670    0.95   \n",
       "3          0.0000          0.095  0.00000  0.00000  0.00000  0.000000    0.00   \n",
       "4          0.0000          0.000  0.00000  0.00000  0.00000  0.000000    0.00   \n",
       "\n",
       "   leukocyte     liver   lung  ...  TSS5k_H1hescH3k27ac  TSS5k_H1hescH3k4me1  \\\n",
       "0   0.000000  0.000000  0.475  ...              1.26696              1.41547   \n",
       "1   0.000000  0.316667  0.000  ...              3.13681              2.72905   \n",
       "2   0.678571  1.266670  0.475  ...              1.02540              1.79405   \n",
       "3   0.000000  0.000000  0.000  ...              0.92500              2.01149   \n",
       "4   0.000000  0.000000  0.000  ...              1.63040              2.49246   \n",
       "\n",
       "   TSS5k_H1hescH3k4me3  TSS5k_K562H3k27ac  TSS5k_K562H3k4me1  \\\n",
       "0             1.719480            1.42071            8.05691   \n",
       "1             1.002450           23.38600            3.95775   \n",
       "2             0.988256            1.18682            1.57390   \n",
       "3             1.795920            1.24058            5.29147   \n",
       "4             1.266500            1.51410            1.88364   \n",
       "\n",
       "   TSS5k_K562H3k4me3  cancer-miRNA_targets  miRNA_targets  hbm_total_degree  \\\n",
       "0            2.61817                   0.0            0.0              68.0   \n",
       "1            2.94355                   0.0            0.0             168.0   \n",
       "2            1.33713                   5.0            6.0              26.0   \n",
       "3            1.63085                   0.0            0.0            1038.0   \n",
       "4            1.63636                   0.0            0.0            5455.0   \n",
       "\n",
       "   hbm_cancer-protein_degree  \n",
       "0                        0.0  \n",
       "1                        1.0  \n",
       "2                        0.0  \n",
       "3                        0.0  \n",
       "4                       15.0  \n",
       "\n",
       "[5 rows x 51 columns]"
      ]
     },
     "execution_count": 11,
     "metadata": {},
     "output_type": "execute_result"
    }
   ],
   "source": [
    "df1.head()"
   ]
  },
  {
   "cell_type": "code",
   "execution_count": 12,
   "metadata": {},
   "outputs": [],
   "source": [
    "X1=np.asarray(df1)"
   ]
  },
  {
   "cell_type": "code",
   "execution_count": 13,
   "metadata": {},
   "outputs": [
    {
     "data": {
      "text/plain": [
       "array([[0.0000e+00, 0.0000e+00, 0.0000e+00, ..., 0.0000e+00, 6.8000e+01,\n",
       "        0.0000e+00],\n",
       "       [0.0000e+00, 0.0000e+00, 0.0000e+00, ..., 0.0000e+00, 1.6800e+02,\n",
       "        1.0000e+00],\n",
       "       [1.1875e+00, 1.9000e+00, 8.3125e-01, ..., 6.0000e+00, 2.6000e+01,\n",
       "        0.0000e+00],\n",
       "       ...,\n",
       "       [2.3750e-01, 3.8000e-01, 9.5000e-01, ..., 0.0000e+00, 1.7000e+01,\n",
       "        0.0000e+00],\n",
       "       [5.9375e-01, 1.9000e+00, 9.5000e-01, ..., 0.0000e+00, 5.2000e+01,\n",
       "        0.0000e+00],\n",
       "       [1.1875e-01, 2.8500e-01, 1.1875e+00, ..., 0.0000e+00, 2.1300e+02,\n",
       "        2.0000e+00]])"
      ]
     },
     "execution_count": 13,
     "metadata": {},
     "output_type": "execute_result"
    }
   ],
   "source": [
    "X1"
   ]
  },
  {
   "cell_type": "code",
   "execution_count": 14,
   "metadata": {},
   "outputs": [],
   "source": [
    "X_test=scaler.transform(X1)"
   ]
  },
  {
   "cell_type": "code",
   "execution_count": 15,
   "metadata": {},
   "outputs": [],
   "source": [
    "knc_pred1=knc.predict(X_test)"
   ]
  },
  {
   "cell_type": "code",
   "execution_count": 16,
   "metadata": {},
   "outputs": [
    {
     "data": {
      "text/plain": [
       "array([0, 0, 0, ..., 0, 0, 0])"
      ]
     },
     "execution_count": 16,
     "metadata": {},
     "output_type": "execute_result"
    }
   ],
   "source": [
    "knc_pred1"
   ]
  },
  {
   "cell_type": "code",
   "execution_count": 17,
   "metadata": {},
   "outputs": [
    {
     "data": {
      "text/plain": [
       "array([0, 1])"
      ]
     },
     "execution_count": 17,
     "metadata": {},
     "output_type": "execute_result"
    }
   ],
   "source": [
    "np.unique(knc_pred)"
   ]
  },
  {
   "cell_type": "code",
   "execution_count": 18,
   "metadata": {},
   "outputs": [],
   "source": [
    "value,count=np.unique(knc_pred,return_counts=True)"
   ]
  },
  {
   "cell_type": "code",
   "execution_count": 19,
   "metadata": {},
   "outputs": [
    {
     "data": {
      "text/plain": [
       "array([1545,   10], dtype=int64)"
      ]
     },
     "execution_count": 19,
     "metadata": {},
     "output_type": "execute_result"
    }
   ],
   "source": [
    "count"
   ]
  },
  {
   "cell_type": "code",
   "execution_count": 20,
   "metadata": {},
   "outputs": [],
   "source": [
    "probs=knc.predict_proba(X_val)\n",
    "preds1=probs[:,1]"
   ]
  },
  {
   "cell_type": "code",
   "execution_count": 21,
   "metadata": {},
   "outputs": [],
   "source": [
    "import sklearn.metrics as metrics\n",
    "fpr,tpr,threshold=metrics.roc_curve(y_val,preds1)\n",
    "roc_auc=metrics.auc(fpr,tpr)"
   ]
  },
  {
   "cell_type": "code",
   "execution_count": 22,
   "metadata": {},
   "outputs": [
    {
     "data": {
      "image/png": "[encoded data removed]",
      "text/plain": [
       "<Figure size 432x288 with 1 Axes>"
      ]
     },
     "metadata": {
      "needs_background": "light"
     },
     "output_type": "display_data"
    }
   ],
   "source": [
    "plt.title('Receiver Operating Characteristic')\n",
    "plt.plot(fpr, tpr, 'b', label = 'AUC = %0.2f' % roc_auc)\n",
    "plt.legend(loc = 'lower right')\n",
    "plt.plot([0, 1], [0, 1],'r--')\n",
    "plt.xlim([0, 1])\n",
    "plt.ylim([0, 1])\n",
    "plt.ylabel('True Positive Rate')\n",
    "plt.xlabel('False Positive Rate')\n",
    "plt.show()"
   ]
  },
  {
   "cell_type": "code",
   "execution_count": 23,
   "metadata": {},
   "outputs": [
    {
     "name": "stdout",
     "output_type": "stream",
     "text": [
      "Confusion matrix, without normalization\n",
      "[[1498    7]\n",
      " [  47    3]]\n",
      "Normalized confusion matrix\n",
      "[[1.   0.  ]\n",
      " [0.94 0.06]]\n"
     ]
    },
    {
     "data": {
      "image/png": "[encoded data removed]",
      "text/plain": [
       "<Figure size 432x288 with 2 Axes>"
      ]
     },
     "metadata": {
      "needs_background": "light"
     },
     "output_type": "display_data"
    },
    {
     "data": {
      "image/png": "[encoded data removed]",
      "text/plain": [
       "<Figure size 432x288 with 2 Axes>"
      ]
     },
     "metadata": {
      "needs_background": "light"
     },
     "output_type": "display_data"
    }
   ],
   "source": [
    "from sklearn.metrics import plot_confusion_matrix\n",
    "np.set_printoptions(precision=2)\n",
    "\n",
    "class_names=[\"Positive(1)\",\"Negative(0)\"]\n",
    "# Plot non-normalized confusion matrix\n",
    "titles_options = [(\"Confusion matrix, without normalization\", None), (\"Normalized confusion matrix\", 'true')]\n",
    "for title, normalize in titles_options:\n",
    "    disp = plot_confusion_matrix(knc, X_val, y_val,\n",
    "                                 display_labels=class_names,\n",
    "                                 cmap=plt.cm.Blues,\n",
    "                                 normalize=normalize)\n",
    "    disp.ax_.set_title(title)\n",
    "\n",
    "    print(title)\n",
    "    print(disp.confusion_matrix)\n",
    "\n",
    "plt.show()"
   ]
  },
  {
   "cell_type": "code",
   "execution_count": null,
   "metadata": {},
   "outputs": [],
   "source": []
  },
  {
   "cell_type": "code",
   "execution_count": null,
   "metadata": {},
   "outputs": [],
   "source": []
  }
 ],
 "metadata": {
  "kernelspec": {
   "display_name": "Python 3",
   "language": "python",
   "name": "python3"
  },
  "language_info": {
   "codemirror_mode": {
    "name": "ipython",
    "version": 3
   },
   "file_extension": ".py",
   "mimetype": "text/x-python",
   "name": "python",
   "nbconvert_exporter": "python",
   "pygments_lexer": "ipython3",
   "version": "3.7.2"
  }
 },
 "nbformat": 4,
 "nbformat_minor": 2
}
